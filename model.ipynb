{
 "cells": [
  {
   "cell_type": "code",
   "execution_count": 2,
   "id": "a3a87034",
   "metadata": {},
   "outputs": [],
   "source": [
    "import numpy as np, pandas as pd\n",
    "import torch\n",
    "import torch.nn as nn\n",
    "import torch.nn.functional as F\n",
    "from torch.utils.data import Dataset"
   ]
  },
  {
   "cell_type": "code",
   "execution_count": 3,
   "id": "f83949ab",
   "metadata": {},
   "outputs": [],
   "source": [
    "# These are all of the files you are given\n",
    "df_tr = pd.read_csv(\"train.csv\")"
   ]
  },
  {
   "cell_type": "code",
   "execution_count": 4,
   "id": "70c03735",
   "metadata": {},
   "outputs": [
    {
     "data": {
      "text/html": [
       "<div>\n",
       "<style scoped>\n",
       "    .dataframe tbody tr th:only-of-type {\n",
       "        vertical-align: middle;\n",
       "    }\n",
       "\n",
       "    .dataframe tbody tr th {\n",
       "        vertical-align: top;\n",
       "    }\n",
       "\n",
       "    .dataframe thead th {\n",
       "        text-align: right;\n",
       "    }\n",
       "</style>\n",
       "<table border=\"1\" class=\"dataframe\">\n",
       "  <thead>\n",
       "    <tr style=\"text-align: right;\">\n",
       "      <th></th>\n",
       "      <th>TRIP_ID</th>\n",
       "      <th>CALL_TYPE</th>\n",
       "      <th>ORIGIN_CALL</th>\n",
       "      <th>ORIGIN_STAND</th>\n",
       "      <th>TAXI_ID</th>\n",
       "      <th>TIMESTAMP</th>\n",
       "      <th>DAY_TYPE</th>\n",
       "      <th>MISSING_DATA</th>\n",
       "      <th>POLYLINE</th>\n",
       "    </tr>\n",
       "  </thead>\n",
       "  <tbody>\n",
       "    <tr>\n",
       "      <th>0</th>\n",
       "      <td>1372636858620000589</td>\n",
       "      <td>C</td>\n",
       "      <td>NaN</td>\n",
       "      <td>NaN</td>\n",
       "      <td>20000589</td>\n",
       "      <td>1372636858</td>\n",
       "      <td>A</td>\n",
       "      <td>False</td>\n",
       "      <td>[[-8.618643,41.141412],[-8.618499,41.141376],[...</td>\n",
       "    </tr>\n",
       "    <tr>\n",
       "      <th>1</th>\n",
       "      <td>1372637303620000596</td>\n",
       "      <td>B</td>\n",
       "      <td>NaN</td>\n",
       "      <td>7.0</td>\n",
       "      <td>20000596</td>\n",
       "      <td>1372637303</td>\n",
       "      <td>A</td>\n",
       "      <td>False</td>\n",
       "      <td>[[-8.639847,41.159826],[-8.640351,41.159871],[...</td>\n",
       "    </tr>\n",
       "    <tr>\n",
       "      <th>2</th>\n",
       "      <td>1372636951620000320</td>\n",
       "      <td>C</td>\n",
       "      <td>NaN</td>\n",
       "      <td>NaN</td>\n",
       "      <td>20000320</td>\n",
       "      <td>1372636951</td>\n",
       "      <td>A</td>\n",
       "      <td>False</td>\n",
       "      <td>[[-8.612964,41.140359],[-8.613378,41.14035],[-...</td>\n",
       "    </tr>\n",
       "    <tr>\n",
       "      <th>3</th>\n",
       "      <td>1372636854620000520</td>\n",
       "      <td>C</td>\n",
       "      <td>NaN</td>\n",
       "      <td>NaN</td>\n",
       "      <td>20000520</td>\n",
       "      <td>1372636854</td>\n",
       "      <td>A</td>\n",
       "      <td>False</td>\n",
       "      <td>[[-8.574678,41.151951],[-8.574705,41.151942],[...</td>\n",
       "    </tr>\n",
       "    <tr>\n",
       "      <th>4</th>\n",
       "      <td>1372637091620000337</td>\n",
       "      <td>C</td>\n",
       "      <td>NaN</td>\n",
       "      <td>NaN</td>\n",
       "      <td>20000337</td>\n",
       "      <td>1372637091</td>\n",
       "      <td>A</td>\n",
       "      <td>False</td>\n",
       "      <td>[[-8.645994,41.18049],[-8.645949,41.180517],[-...</td>\n",
       "    </tr>\n",
       "    <tr>\n",
       "      <th>...</th>\n",
       "      <td>...</td>\n",
       "      <td>...</td>\n",
       "      <td>...</td>\n",
       "      <td>...</td>\n",
       "      <td>...</td>\n",
       "      <td>...</td>\n",
       "      <td>...</td>\n",
       "      <td>...</td>\n",
       "      <td>...</td>\n",
       "    </tr>\n",
       "    <tr>\n",
       "      <th>1710665</th>\n",
       "      <td>1404171463620000698</td>\n",
       "      <td>C</td>\n",
       "      <td>NaN</td>\n",
       "      <td>NaN</td>\n",
       "      <td>20000698</td>\n",
       "      <td>1404171463</td>\n",
       "      <td>A</td>\n",
       "      <td>False</td>\n",
       "      <td>[[-8.612469,41.14602],[-8.612487,41.145993],[-...</td>\n",
       "    </tr>\n",
       "    <tr>\n",
       "      <th>1710666</th>\n",
       "      <td>1404171367620000670</td>\n",
       "      <td>C</td>\n",
       "      <td>NaN</td>\n",
       "      <td>NaN</td>\n",
       "      <td>20000670</td>\n",
       "      <td>1404171367</td>\n",
       "      <td>A</td>\n",
       "      <td>False</td>\n",
       "      <td>[[-8.610138,41.140845],[-8.610174,41.140935],[...</td>\n",
       "    </tr>\n",
       "    <tr>\n",
       "      <th>1710667</th>\n",
       "      <td>1388745716620000264</td>\n",
       "      <td>C</td>\n",
       "      <td>NaN</td>\n",
       "      <td>NaN</td>\n",
       "      <td>20000264</td>\n",
       "      <td>1388745716</td>\n",
       "      <td>A</td>\n",
       "      <td>False</td>\n",
       "      <td>[]</td>\n",
       "    </tr>\n",
       "    <tr>\n",
       "      <th>1710668</th>\n",
       "      <td>1404141826620000248</td>\n",
       "      <td>B</td>\n",
       "      <td>NaN</td>\n",
       "      <td>12.0</td>\n",
       "      <td>20000248</td>\n",
       "      <td>1404141826</td>\n",
       "      <td>A</td>\n",
       "      <td>False</td>\n",
       "      <td>[[-8.630712,41.154885],[-8.63073,41.154813],[-...</td>\n",
       "    </tr>\n",
       "    <tr>\n",
       "      <th>1710669</th>\n",
       "      <td>1404157147620000079</td>\n",
       "      <td>B</td>\n",
       "      <td>NaN</td>\n",
       "      <td>34.0</td>\n",
       "      <td>20000079</td>\n",
       "      <td>1404157147</td>\n",
       "      <td>A</td>\n",
       "      <td>False</td>\n",
       "      <td>[[-8.615538,41.140629],[-8.615421,41.140746],[...</td>\n",
       "    </tr>\n",
       "  </tbody>\n",
       "</table>\n",
       "<p>1710670 rows × 9 columns</p>\n",
       "</div>"
      ],
      "text/plain": [
       "                     TRIP_ID CALL_TYPE  ORIGIN_CALL  ORIGIN_STAND   TAXI_ID  \\\n",
       "0        1372636858620000589         C          NaN           NaN  20000589   \n",
       "1        1372637303620000596         B          NaN           7.0  20000596   \n",
       "2        1372636951620000320         C          NaN           NaN  20000320   \n",
       "3        1372636854620000520         C          NaN           NaN  20000520   \n",
       "4        1372637091620000337         C          NaN           NaN  20000337   \n",
       "...                      ...       ...          ...           ...       ...   \n",
       "1710665  1404171463620000698         C          NaN           NaN  20000698   \n",
       "1710666  1404171367620000670         C          NaN           NaN  20000670   \n",
       "1710667  1388745716620000264         C          NaN           NaN  20000264   \n",
       "1710668  1404141826620000248         B          NaN          12.0  20000248   \n",
       "1710669  1404157147620000079         B          NaN          34.0  20000079   \n",
       "\n",
       "          TIMESTAMP DAY_TYPE  MISSING_DATA  \\\n",
       "0        1372636858        A         False   \n",
       "1        1372637303        A         False   \n",
       "2        1372636951        A         False   \n",
       "3        1372636854        A         False   \n",
       "4        1372637091        A         False   \n",
       "...             ...      ...           ...   \n",
       "1710665  1404171463        A         False   \n",
       "1710666  1404171367        A         False   \n",
       "1710667  1388745716        A         False   \n",
       "1710668  1404141826        A         False   \n",
       "1710669  1404157147        A         False   \n",
       "\n",
       "                                                  POLYLINE  \n",
       "0        [[-8.618643,41.141412],[-8.618499,41.141376],[...  \n",
       "1        [[-8.639847,41.159826],[-8.640351,41.159871],[...  \n",
       "2        [[-8.612964,41.140359],[-8.613378,41.14035],[-...  \n",
       "3        [[-8.574678,41.151951],[-8.574705,41.151942],[...  \n",
       "4        [[-8.645994,41.18049],[-8.645949,41.180517],[-...  \n",
       "...                                                    ...  \n",
       "1710665  [[-8.612469,41.14602],[-8.612487,41.145993],[-...  \n",
       "1710666  [[-8.610138,41.140845],[-8.610174,41.140935],[...  \n",
       "1710667                                                 []  \n",
       "1710668  [[-8.630712,41.154885],[-8.63073,41.154813],[-...  \n",
       "1710669  [[-8.615538,41.140629],[-8.615421,41.140746],[...  \n",
       "\n",
       "[1710670 rows x 9 columns]"
      ]
     },
     "execution_count": 4,
     "metadata": {},
     "output_type": "execute_result"
    }
   ],
   "source": [
    "df_tr"
   ]
  },
  {
   "cell_type": "code",
   "execution_count": 5,
   "id": "582f5dcd",
   "metadata": {},
   "outputs": [],
   "source": [
    "# Over every single \n",
    "def polyline_to_trip_duration(polyline):\n",
    "  return max(polyline.count(\"[\") - 2, 0) * 15\n",
    "\n",
    "df_tr[\"LEN\"] = df_tr[\"POLYLINE\"].apply(polyline_to_trip_duration)"
   ]
  },
  {
   "cell_type": "code",
   "execution_count": 6,
   "id": "0416639f",
   "metadata": {},
   "outputs": [],
   "source": [
    "from datetime import datetime\n",
    "def parse_time(x):\n",
    "  # We are using python's builtin datetime library\n",
    "  # https://docs.python.org/3/library/datetime.html#datetime.date.fromtimestamp\n",
    "\n",
    "  # Each x is essentially a 1 row, 1 column pandas Series\n",
    "  dt = datetime.fromtimestamp(x[\"TIMESTAMP\"])\n",
    "  return dt.year, dt.month, dt.day, dt.hour, dt.weekday()\n",
    "\n",
    "# Because we are assigning multiple values at a time, we need to \"expand\" our computed (year, month, day, hour, weekday) tuples on \n",
    "# the column axis, or axis 1\n",
    "# https://pandas.pydata.org/docs/reference/api/pandas.DataFrame.apply.html\n",
    "df_tr[[\"YR\", \"MON\", \"DAY\", \"HR\", \"WK\"]] = df_tr[[\"TIMESTAMP\"]].apply(parse_time, axis=1, result_type=\"expand\")"
   ]
  },
  {
   "cell_type": "code",
   "execution_count": 7,
   "id": "6cc17f4f",
   "metadata": {},
   "outputs": [],
   "source": [
    "df_tr = df_tr[df_tr[\"MISSING_DATA\"] == False] # clean out all missing data"
   ]
  },
  {
   "cell_type": "code",
   "execution_count": 8,
   "id": "74a67b65",
   "metadata": {},
   "outputs": [],
   "source": [
    "# cab_data = pd.read_csv(\"metaData_taxistandsID_name_GPSlocation.csv\")\n",
    "# cab_dict = {}\n",
    "# for i in range(1, 64):\n",
    "#     cab_dict[i] = (cab_data[cab_data[\"ID\"] == i].values[0][2], cab_data[cab_data[\"ID\"] == i].values[0][3])\n",
    "# lat_mean = np.mean([cab_dict[i][0] for i in range(1, 64)])\n",
    "# lat_std = np.std([cab_dict[i][0] for i in range(1, 64)])\n",
    "# long_mean = np.mean([cab_dict[i][1] for i in range(1, 64)])\n",
    "# long_std = np.std([cab_dict[i][1] for i in range(1, 64)])\n",
    "# for i in range(1, 64):\n",
    "#     old_lat = cab_dict[i][0]\n",
    "#     old_long = cab_dict[i][1]\n",
    "#     new_lat = (old_lat - lat_mean) / lat_std\n",
    "#     new_long = (old_long - long_mean) / long_std\n",
    "#     cab_dict[i] = (new_lat + 3, new_long + 3) # push up the z-normalized values so we can use 0 as a placeholder for \"null\""
   ]
  },
  {
   "cell_type": "code",
   "execution_count": 9,
   "id": "70f1e7ed",
   "metadata": {},
   "outputs": [],
   "source": [
    "# cab_data = pd.read_csv(\"metaData_taxistandsID_name_GPSlocation.csv\")\n",
    "# cab_dict = {}\n",
    "# # for i in range(1, 64):\n",
    "#     cab_dict[i] = (cab_data[cab_data[\"ID\"] == i].values[0][2], cab_data[cab_data[\"ID\"] == i].values[0][3])"
   ]
  },
  {
   "cell_type": "code",
   "execution_count": 10,
   "id": "8400cbe2",
   "metadata": {},
   "outputs": [],
   "source": [
    "# def get_lat_long(x):\n",
    "#     i = x[\"ORIGIN_STAND\"]\n",
    "# #     if (i != i): return 0, 0 # placeholder for null values\n",
    "#     i = int(i)\n",
    "#     return cab_dict[i][0], cab_dict[i][1]\n",
    "\n",
    "# df_tr[[\"LAT\", \"LONG\"]] = df_tr[[\"ORIGIN_STAND\"]].apply(get_lat_long, axis=1, result_type=\"expand\")"
   ]
  },
  {
   "cell_type": "code",
   "execution_count": null,
   "id": "01c756f5",
   "metadata": {},
   "outputs": [],
   "source": [
    "# print(len(df_tr))"
   ]
  },
  {
   "cell_type": "code",
   "execution_count": 11,
   "id": "625ef1a9",
   "metadata": {},
   "outputs": [],
   "source": [
    "device = torch.device(\"cuda\" if torch.cuda.is_available() else \"cpu\")"
   ]
  },
  {
   "cell_type": "code",
   "execution_count": 12,
   "id": "b5d56886",
   "metadata": {},
   "outputs": [],
   "source": [
    "class TaxiDataset(Dataset):\n",
    "    def __init__(self, dataframe, transform=None, target_transform=None):\n",
    "        self.dataframe = dataframe\n",
    "        self.transform = None\n",
    "        self.target_transform = None\n",
    "    def __len__(self):\n",
    "        return len(self.dataframe)\n",
    "    def __getitem__(self, idx):\n",
    "        entry = self.dataframe.iloc[idx]\n",
    "        time = torch.tensor([entry[\"LEN\"]]).to(torch.float32).to(device)\n",
    "        if (entry[\"CALL_TYPE\"] == \"A\"):\n",
    "            call_type_onehot = [1, 0, 0]\n",
    "        elif (entry[\"CALL_TYPE\"] == \"B\"):\n",
    "            call_type_onehot = [0, 1, 0]\n",
    "        else: # call_type is C\n",
    "            call_type_onehot = [0, 0, 1]\n",
    "        if (entry[\"ORIGIN_STAND\"] != entry[\"ORIGIN_STAND\"]): # if ORIGIN_STAND is NaN\n",
    "            # idea to do one-hot encoding comes from https://towardsdatascience.com/deep-neural-networks-for-regression-problems-81321897ca33\n",
    "            origin_stand = [0 for _ in range(63)]\n",
    "        else:\n",
    "            origin_stand = F.one_hot(torch.tensor(int(entry[\"ORIGIN_STAND\"]) - 1), num_classes=63).tolist()\n",
    "        feature_tuple = (*call_type_onehot, entry[\"HR\"], *origin_stand)\n",
    "        feature_tensor = torch.tensor(feature_tuple).to(torch.float32).to(device)\n",
    "        return feature_tensor, time"
   ]
  },
  {
   "cell_type": "code",
   "execution_count": 39,
   "id": "42de3e02",
   "metadata": {},
   "outputs": [
    {
     "data": {
      "text/plain": [
       "1710660"
      ]
     },
     "execution_count": 39,
     "metadata": {},
     "output_type": "execute_result"
    }
   ],
   "source": [
    "len(df_tr)"
   ]
  },
  {
   "cell_type": "code",
   "execution_count": 13,
   "id": "ac2cf01b",
   "metadata": {},
   "outputs": [],
   "source": [
    "# credit to https://stackoverflow.com/questions/54730276/how-to-randomly-split-a-dataframe-into-several-smaller-dataframes\n",
    "shuffled = df_tr.sample(frac=1)\n",
    "# result = np.array_split(shuffled, 100)\n",
    "result = np.array_split(shuffled, 100)"
   ]
  },
  {
   "cell_type": "code",
   "execution_count": 14,
   "id": "a511e23e",
   "metadata": {},
   "outputs": [],
   "source": [
    "train_df = pd.concat(result[:4])\n",
    "# outlier_threshold = 3 # taking out anomalies has helped from my experience\n",
    "# mean, std = train_df[\"LEN\"].mean(), train_df[\"LEN\"].std()\n",
    "# train_df = train_df[train_df[\"LEN\"] < mean + outlier_threshold * std]\n",
    "test_df = result[-1]\n",
    "train_set = TaxiDataset(train_df)\n",
    "test_set = TaxiDataset(test_df)"
   ]
  },
  {
   "cell_type": "code",
   "execution_count": 39,
   "id": "2b6243c4",
   "metadata": {},
   "outputs": [],
   "source": [
    "train_df.to_csv(\"cropped_training_set.csv\", index=None) # save these for later so we can make consistent comparisons\n",
    "test_df.to_csv(\"cropped_test_set.csv\", index=None)"
   ]
  },
  {
   "cell_type": "code",
   "execution_count": 46,
   "id": "975af50c",
   "metadata": {},
   "outputs": [],
   "source": [
    "train_df = pd.read_csv(\"cropped_training_set.csv\")\n",
    "test_df = pd.read_csv(\"cropped_test_set.csv\")"
   ]
  },
  {
   "cell_type": "code",
   "execution_count": 47,
   "id": "ebcc74d5",
   "metadata": {},
   "outputs": [],
   "source": [
    "from torch.utils.data import DataLoader"
   ]
  },
  {
   "cell_type": "markdown",
   "id": "45f8de73",
   "metadata": {},
   "source": [
    "Features are going to be:\n",
    "- call type - one hot encoded\n",
    "- origin stand - one hot encoded\n",
    "- length (in seconds)\n",
    "- hour (of when the taxi travel time begun)"
   ]
  },
  {
   "cell_type": "code",
   "execution_count": 54,
   "id": "0057a031",
   "metadata": {},
   "outputs": [],
   "source": [
    "class Net(nn.Module): # CREDIT TO https://stackoverflow.com/questions/39691902/ordering-of-batch-normalization-and-dropout for order\n",
    "    def __init__(self, p):\n",
    "        super(Net, self).__init__()\n",
    "        self.layer1 = nn.Linear(67, 128)\n",
    "        self.layer2 = nn.Linear(128, 128)\n",
    "        self.layer3 = nn.Linear(128, 128)\n",
    "        self.layer4 = nn.Linear(128, 128)\n",
    "        self.layer5 = nn.Linear(128, 1)\n",
    "        self.dropout = nn.Dropout(p=p)\n",
    "        self.batchnorm1 = nn.BatchNorm1d(128)\n",
    "        self.batchnorm2 = nn.BatchNorm1d(128)\n",
    "        self.batchnorm3 = nn.BatchNorm1d(128)\n",
    "        self.batchnorm4 = nn.BatchNorm1d(128)\n",
    "        self.relu = nn.ReLU()\n",
    "    \n",
    "    def forward(self, x):\n",
    "        x = self.relu(self.batchnorm1(self.layer1(x)))\n",
    "        x = self.relu(self.batchnorm2(self.dropout(self.layer2(x))))\n",
    "        x = self.relu(self.batchnorm3(self.layer3(x)))\n",
    "        x = self.relu(self.batchnorm4(self.dropout(self.layer4(x))))\n",
    "        x = self.relu(self.layer5(x))\n",
    "        return x"
   ]
  },
  {
   "cell_type": "code",
   "execution_count": 55,
   "id": "99f87c5a",
   "metadata": {},
   "outputs": [],
   "source": [
    "# code taken from https://pytorch.org/tutorials/beginner/basics/optimization_tutorial.html\n",
    "def train_loop(dataloader, model, loss_fn, optimizer):\n",
    "    model.train()\n",
    "    size = len(dataloader.dataset)\n",
    "    for batch, (X, y) in enumerate(dataloader):\n",
    "        # Compute prediction and loss\n",
    "        pred = model(X)\n",
    "        loss = loss_fn(pred, y)\n",
    "\n",
    "        # Backpropagation\n",
    "        loss.backward()\n",
    "        optimizer.step()\n",
    "        optimizer.zero_grad()\n",
    "    model.eval()\n",
    "\n",
    "def eval_train_loop(dataloader, model, loss_fn):\n",
    "    num_batches = len(dataloader)\n",
    "    train_loss = 0    \n",
    "    with torch.no_grad():\n",
    "        for X, y in dataloader:\n",
    "            pred = model(X)\n",
    "            train_loss += loss_fn(pred, y).item()\n",
    "    train_loss /= num_batches\n",
    "    train_loss\n",
    "\n",
    "def test_loop(dataloader, model, loss_fn):\n",
    "    num_batches = len(dataloader)\n",
    "    test_loss = 0\n",
    "\n",
    "    with torch.no_grad():\n",
    "        for X, y in dataloader:\n",
    "            pred = model(X)\n",
    "            test_loss += loss_fn(pred, y).item()\n",
    "\n",
    "    test_loss /= num_batches\n",
    "    return test_loss\n",
    "    \n",
    "def std_loop(dataloader, model):\n",
    "    results = []\n",
    "    for (x, _) in dataloader:\n",
    "        for singleton in model(x):\n",
    "            results.append(singleton.item())\n",
    "    return np.std(results)"
   ]
  },
  {
   "cell_type": "code",
   "execution_count": 64,
   "id": "bed87b2c",
   "metadata": {
    "scrolled": true,
    "slideshow": {
     "slide_type": "slide"
    }
   },
   "outputs": [],
   "source": [
    "def run_tests(batch_size=64, lr=1e-3, epochs=10, dropout=0.1):\n",
    "    model = Net(dropout).to(device)\n",
    "    # code adapted from https://pytorch.org/tutorials/beginner/basics/optimization_tutorial.html\n",
    "\n",
    "    train_loader = DataLoader(train_set, batch_size=batch_size, shuffle=True)\n",
    "    test_loader = DataLoader(test_set, batch_size=batch_size, shuffle=True)\n",
    "\n",
    "    loss_fn = nn.MSELoss()\n",
    "    optimizer = torch.optim.Adam(model.parameters(), lr=lr)\n",
    "    \n",
    "    exp_dict = {} # experiment results, as a dict\n",
    "    exp_dict[\"epoch\"] = []\n",
    "    exp_dict[\"train_loss\"] = []\n",
    "    exp_dict[\"test_loss\"] = []\n",
    "    exp_dict[\"std\"] = []\n",
    "\n",
    "    for t in range(epochs):\n",
    "        train_loop(train_loader, model, loss_fn, optimizer)\n",
    "        exp_dict[\"epoch\"].append(t + 1)\n",
    "        exp_dict[\"train_loss\"].append(eval_train_loop(train_loader, model, loss_fn))\n",
    "        exp_dict[\"test_loss\"].append(test_loop(test_loader, model, loss_fn))\n",
    "        exp_dict[\"std\"].append(std_loop(test_loader, model))\n",
    "    \n",
    "    return (model, pd.DataFrame(data=exp_dict))"
   ]
  },
  {
   "cell_type": "code",
   "execution_count": 136,
   "id": "cdb1d8ac",
   "metadata": {},
   "outputs": [],
   "source": [
    "(model, results_lr_1) = run_tests(lr=1e-3) # dropout is 0.1 by default"
   ]
  },
  {
   "cell_type": "code",
   "execution_count": 66,
   "id": "f265ab59",
   "metadata": {},
   "outputs": [],
   "source": [
    "(model2, results_lr_2) = run_tests(lr=1e-4)"
   ]
  },
  {
   "cell_type": "code",
   "execution_count": 121,
   "id": "537d0b8e",
   "metadata": {},
   "outputs": [],
   "source": [
    "(model3, results_lr_3) = run_tests(lr=5e-4)"
   ]
  },
  {
   "cell_type": "code",
   "execution_count": 137,
   "id": "fb6d8674",
   "metadata": {},
   "outputs": [],
   "source": [
    "(model4, results_lr_4)= run_tests(lr=1.5e-3)"
   ]
  },
  {
   "cell_type": "code",
   "execution_count": 186,
   "id": "ed8ad8e9",
   "metadata": {},
   "outputs": [],
   "source": [
    "(model9, results_dropout_02) = run_tests(dropout=0.2, lr=5e-4)"
   ]
  },
  {
   "cell_type": "code",
   "execution_count": 187,
   "id": "3caf0220",
   "metadata": {},
   "outputs": [],
   "source": [
    "(model10, results_dropout_03) = run_tests(dropout=0.3, lr=5e-4)"
   ]
  },
  {
   "cell_type": "code",
   "execution_count": 188,
   "id": "8ad4c238",
   "metadata": {},
   "outputs": [],
   "source": [
    "(model11, results_dropout_04) = run_tests(dropout=0.4, lr=5e-4)"
   ]
  },
  {
   "cell_type": "code",
   "execution_count": 189,
   "id": "16722da7",
   "metadata": {},
   "outputs": [],
   "source": [
    "(model12, results_dropout_05) = run_tests(dropout=0.5, lr=5e-4)"
   ]
  },
  {
   "cell_type": "code",
   "execution_count": null,
   "id": "1b6d3c7b",
   "metadata": {},
   "outputs": [],
   "source": [
    "(model13, results_dropout_02_lr_1) = run_tests(dropout=0.2)"
   ]
  },
  {
   "cell_type": "code",
   "execution_count": 203,
   "id": "1502dd61",
   "metadata": {},
   "outputs": [],
   "source": [
    "(model14, results_dropout_03_lr_1) = run_tests(dropout=0.3)"
   ]
  },
  {
   "cell_type": "code",
   "execution_count": 204,
   "id": "2b0d76f1",
   "metadata": {},
   "outputs": [],
   "source": [
    "(model15, results_dropout_04_lr_1) = run_tests(dropout=0.4)"
   ]
  },
  {
   "cell_type": "code",
   "execution_count": 205,
   "id": "95265c23",
   "metadata": {},
   "outputs": [],
   "source": [
    "(model16, results_dropout_05_lr_1) = run_tests(dropout=0.5)"
   ]
  },
  {
   "cell_type": "code",
   "execution_count": 220,
   "id": "bf7ec654",
   "metadata": {},
   "outputs": [],
   "source": [
    "(model17, results_dropout_0) = run_tests(dropout=0.0, lr=5e-4)"
   ]
  },
  {
   "cell_type": "code",
   "execution_count": 224,
   "id": "940204df",
   "metadata": {},
   "outputs": [
    {
     "data": {
      "text/plain": [
       "0    833377.513701\n",
       "1    619758.612931\n",
       "2    498264.301656\n",
       "3    460649.804862\n",
       "4    451621.088532\n",
       "5    448612.457993\n",
       "6    451868.322732\n",
       "7    451926.987786\n",
       "8    448399.993179\n",
       "9    448815.158291\n",
       "Name: test_loss, dtype: float64"
      ]
     },
     "execution_count": 224,
     "metadata": {},
     "output_type": "execute_result"
    }
   ],
   "source": [
    "results_dropout_03[\"test_loss\"]"
   ]
  },
  {
   "cell_type": "code",
   "execution_count": 223,
   "id": "b2d6c5a1",
   "metadata": {},
   "outputs": [
    {
     "data": {
      "text/plain": [
       "0    832120.330224\n",
       "1    602382.786031\n",
       "2    471480.717497\n",
       "3    447993.430066\n",
       "4    442374.174411\n",
       "5    444390.556582\n",
       "6    445478.464713\n",
       "7    441258.160069\n",
       "8    441219.273671\n",
       "9    441837.978720\n",
       "Name: test_loss, dtype: float64"
      ]
     },
     "execution_count": 223,
     "metadata": {},
     "output_type": "execute_result"
    }
   ],
   "source": [
    "results_dropout_0[\"test_loss\"]"
   ]
  },
  {
   "cell_type": "code",
   "execution_count": 265,
   "id": "0131757c",
   "metadata": {},
   "outputs": [],
   "source": [
    "lr_results = pd.concat([results_lr_1[\"epoch\"], results_lr_2[\"test_loss\"], results_lr_3[\"test_loss\"], results_lr_1[\"test_loss\"], results_lr_4[\"test_loss\"]], axis=1)"
   ]
  },
  {
   "cell_type": "code",
   "execution_count": 266,
   "id": "a90550ed",
   "metadata": {},
   "outputs": [],
   "source": [
    "lr_results.columns = [\"epoch\", \"1e-4 lr\", \"5e-4 lr\", \"1e-3 lr\", \"1.5e-3 lr\"]"
   ]
  },
  {
   "cell_type": "code",
   "execution_count": 267,
   "id": "3d686eef",
   "metadata": {},
   "outputs": [
    {
     "data": {
      "image/png": "[encoded data removed]",
      "text/plain": [
       "<Figure size 432x288 with 1 Axes>"
      ]
     },
     "metadata": {
      "needs_background": "light"
     },
     "output_type": "display_data"
    }
   ],
   "source": [
    "import matplotlib.pyplot as plt\n",
    "ax = lr_results.set_index(\"epoch\").plot()\n",
    "ax.set_xlabel(\"epoch\")\n",
    "ax.set_ylabel(\"MSE loss\")\n",
    "plt.show()"
   ]
  },
  {
   "cell_type": "code",
   "execution_count": 84,
   "id": "23ffc914",
   "metadata": {},
   "outputs": [],
   "source": [
    "def get_input_tensor(entry):\n",
    "    if (entry[\"CALL_TYPE\"] == \"A\"):\n",
    "        call_type_onehot = [1, 0, 0]\n",
    "    elif (entry[\"CALL_TYPE\"] == \"B\"):\n",
    "        call_type_onehot = [0, 1, 0]\n",
    "    else: # call_type is C\n",
    "        call_type_onehot = [0, 0, 1]\n",
    "    if (entry[\"ORIGIN_STAND\"] != entry[\"ORIGIN_STAND\"]): # if ORIGIN_STAND is NaN\n",
    "        # idea to do one-hot encoding comes from https://towardsdatascience.com/deep-neural-networks-for-regression-problems-81321897ca33\n",
    "        origin_stand = [0 for _ in range(63)]\n",
    "    else:\n",
    "        origin_stand = F.one_hot(torch.tensor(int(entry[\"ORIGIN_STAND\"]) - 1), num_classes=63).tolist()\n",
    "    feature_tuple = (*call_type_onehot, entry[\"HR\"], *origin_stand)\n",
    "    feature_tensor = torch.tensor(feature_tuple).to(torch.float32).to(device)\n",
    "    return feature_tensor"
   ]
  },
  {
   "cell_type": "markdown",
   "id": "a49b0d7c",
   "metadata": {},
   "source": [
    "I ran into a problem where the model would just output the exact same value every time. I combatted this by adding more layers + batch normalization + reduced learning rate + less epochs.\n",
    "\n",
    "https://datascience.stackexchange.com/questions/58220/how-to-deal-with-a-constant-value-as-an-output-from-neural-network\n",
    "\n",
    "https://stackoverflow.com/questions/4493554/neural-network-always-produces-same-similar-outputs-for-any-input\n",
    "\n",
    "https://stackoverflow.com/questions/39217567/keras-neural-network-outputs-same-result-for-every-input"
   ]
  },
  {
   "cell_type": "code",
   "execution_count": 85,
   "id": "240bb3df",
   "metadata": {},
   "outputs": [],
   "source": [
    "df_public_test = pd.read_csv(\"test_public.csv\")\n",
    "df_public_test[[\"YR\", \"MON\", \"DAY\", \"HR\", \"WK\"]] = df_public_test[[\"TIMESTAMP\"]].apply(parse_time, axis=1, result_type=\"expand\")\n",
    "pred_dict = {}\n",
    "for row in df_public_test.iloc:\n",
    "    pred_dict[row[\"TRIP_ID\"]] = model(torch.unsqueeze(get_input_tensor(row), dim=0)).item()"
   ]
  },
  {
   "cell_type": "code",
   "execution_count": 70,
   "id": "5b13212f",
   "metadata": {},
   "outputs": [],
   "source": [
    "def get_prediction(x):\n",
    "    return pred_dict[x]"
   ]
  },
  {
   "cell_type": "code",
   "execution_count": 86,
   "id": "b18820e1",
   "metadata": {},
   "outputs": [],
   "source": [
    "# Sample submission file that is given on kaggle\n",
    "df_sample = pd.read_csv(\"sampleSubmission.csv\")\n",
    "df_sample[\"TRAVEL_TIME\"] = df_sample[\"TRIP_ID\"].apply(get_prediction)\n",
    "df_sample.to_csv(\"my_pred.csv\", index=None)"
   ]
  },
  {
   "cell_type": "code",
   "execution_count": 308,
   "id": "864a464a",
   "metadata": {},
   "outputs": [],
   "source": [
    "class LinReg(nn.Module):\n",
    "    def __init__(self):\n",
    "        super(LinReg, self).__init__()\n",
    "        self.layer1 = nn.Linear(68, 1)\n",
    "    \n",
    "    def forward(self, x):\n",
    "        x = self.layer1(x)\n",
    "        return x"
   ]
  },
  {
   "cell_type": "code",
   "execution_count": 309,
   "id": "fc4a98ce",
   "metadata": {},
   "outputs": [],
   "source": [
    "linreg_model = LinReg().to(device)"
   ]
  },
  {
   "cell_type": "code",
   "execution_count": null,
   "id": "3598ca8e",
   "metadata": {},
   "outputs": [],
   "source": [
    "# code taken from https://pytorch.org/tutorials/beginner/basics/optimization_tutorial.html\n",
    "learning_rate = 0.001\n",
    "batch_size = 64\n",
    "\n",
    "loss_fn = nn.MSELoss()\n",
    "optimizer = torch.optim.SGD(linreg_model.parameters(), lr=learning_rate, weight_decay=0.99)\n",
    "epochs = 5\n",
    "\n",
    "for t in range(epochs):\n",
    "    print(f\"Epoch {t+1}\\n-------------------------------\")\n",
    "    train_loop(train_loader, linreg_model, loss_fn, optimizer)\n",
    "    test_loop(test_loader, linreg_model, loss_fn)\n",
    "print(\"Done!\")"
   ]
  }
 ],
 "metadata": {
  "kernelspec": {
   "display_name": "Python 3 (ipykernel)",
   "language": "python",
   "name": "python3"
  },
  "language_info": {
   "codemirror_mode": {
    "name": "ipython",
    "version": 3
   },
   "file_extension": ".py",
   "mimetype": "text/x-python",
   "name": "python",
   "nbconvert_exporter": "python",
   "pygments_lexer": "ipython3",
   "version": "3.9.5"
  }
 },
 "nbformat": 4,
 "nbformat_minor": 5
}
